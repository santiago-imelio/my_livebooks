{
  "nbformat": 4,
  "nbformat_minor": 0,
  "metadata": {
    "colab": {
      "provenance": [],
      "collapsed_sections": [
        "lbpMN75-6GZn"
      ]
    },
    "kernelspec": {
      "name": "python3",
      "display_name": "Python 3"
    },
    "language_info": {
      "name": "python"
    }
  },
  "cells": [
    {
      "cell_type": "markdown",
      "source": [
        "# Formatos de Representación para Matrices Dispersas"
      ],
      "metadata": {
        "id": "8NYsUt5lu6Bc"
      }
    },
    {
      "cell_type": "markdown",
      "source": [
        "En este notebook se presentan varios formatos de representación para matrices dispersas. El objetivo detrás del estudio de diferentes formatos para almacenar matrices disperas es optimizar la utilización de la memoria del sistema en algunas operaciones fundamentales sin comprometer el rendimiento, en particular veremos la multiplicación matriz-vector dispersa o _SpMV_."
      ],
      "metadata": {
        "id": "QuIj5rTfu_OT"
      }
    },
    {
      "cell_type": "markdown",
      "source": [
        "## Setup"
      ],
      "metadata": {
        "id": "lbpMN75-6GZn"
      }
    },
    {
      "cell_type": "code",
      "source": [
        "!rm -rf sparse_matrices && git clone https://github.com/santiago-imelio/sparse_matrices.git"
      ],
      "metadata": {
        "colab": {
          "base_uri": "https://localhost:8080/"
        },
        "id": "sLW-4CjQwgQT",
        "outputId": "6cee2c5c-252c-4812-e2d7-3da53f17c34f"
      },
      "execution_count": 1,
      "outputs": [
        {
          "output_type": "stream",
          "name": "stdout",
          "text": [
            "Cloning into 'sparse_matrices'...\n",
            "remote: Enumerating objects: 43, done.\u001b[K\n",
            "remote: Counting objects: 100% (43/43), done.\u001b[K\n",
            "remote: Compressing objects: 100% (29/29), done.\u001b[K\n",
            "remote: Total 43 (delta 18), reused 38 (delta 13), pack-reused 0 (from 0)\u001b[K\n",
            "Receiving objects: 100% (43/43), 88.27 KiB | 5.52 MiB/s, done.\n",
            "Resolving deltas: 100% (18/18), done.\n"
          ]
        }
      ]
    },
    {
      "cell_type": "code",
      "source": [
        "!pip install pygments\n",
        "\n",
        "from IPython.display import Code, HTML\n",
        "from pygments.styles import get_style_by_name\n",
        "from pygments.lexers import get_lexer_by_name\n",
        "from pygments.lexers import CLexer\n",
        "from pygments import highlight\n",
        "from pygments.formatters import HtmlFormatter\n",
        "\n",
        "def show_c_code(path_to_file):\n",
        "  monokai = get_style_by_name('monokai')\n",
        "  code = Code(path_to_file).data\n",
        "\n",
        "  display(HTML(highlight(code, CLexer(), HtmlFormatter(style=monokai, full=True))));"
      ],
      "metadata": {
        "colab": {
          "base_uri": "https://localhost:8080/"
        },
        "id": "ON4qY_mh5dTA",
        "outputId": "70819f4e-7ad1-4e74-a9ed-2f2015e6dc31"
      },
      "execution_count": 2,
      "outputs": [
        {
          "output_type": "stream",
          "name": "stdout",
          "text": [
            "Requirement already satisfied: pygments in /usr/local/lib/python3.11/dist-packages (2.18.0)\n"
          ]
        }
      ]
    },
    {
      "cell_type": "markdown",
      "source": [
        "## Compressed Sparse Row (CSR)"
      ],
      "metadata": {
        "id": "AdsfIDK65t3a"
      }
    },
    {
      "cell_type": "markdown",
      "source": [
        "CSR se considera como el formato de facto para almacenar y manipular matrices dispersas. Consiste en una estructura de datos que tiene tres arrays:\n",
        "- `values` es una lista de largo `nnz` tal que `nnz` es la cantidad de elementos no nulos en la matriz. `values` está ordenada en _row-major_.\n",
        "- `col_index` es una lista de largo `nnz` donde cada elemento `col_index[i]` es el índice de columna correspondiente a `values[i]`.\n",
        "- `row_ptr` es una lista de largo `m + 1` donde `m` es la cantidad de filas. `row_ptr[i]` es el índice en la lista `col_index` que indica la posición del primer elemento no nulo en la fila `i`. Es decir, `col_index[row_ptr[i]]` es la columna del primer elemento no nulo de la fila `i`."
      ],
      "metadata": {
        "id": "BJNREjCYFADo"
      }
    },
    {
      "cell_type": "code",
      "source": [
        "show_c_code('sparse_matrices/csr/csr.h')"
      ],
      "metadata": {
        "colab": {
          "base_uri": "https://localhost:8080/",
          "height": 279
        },
        "id": "4uLuPqJK5-Lt",
        "outputId": "de840b46-21b6-4fa7-dfd8-eb382a487997"
      },
      "execution_count": 3,
      "outputs": [
        {
          "output_type": "display_data",
          "data": {
            "text/plain": [
              "<IPython.core.display.HTML object>"
            ],
            "text/html": [
              "<!DOCTYPE html PUBLIC \"-//W3C//DTD HTML 4.01//EN\"\n",
              "   \"http://www.w3.org/TR/html4/strict.dtd\">\n",
              "<!--\n",
              "generated by Pygments <https://pygments.org/>\n",
              "Copyright 2006-2024 by the Pygments team.\n",
              "Licensed under the BSD license, see LICENSE for details.\n",
              "-->\n",
              "<html>\n",
              "<head>\n",
              "  <title></title>\n",
              "  <meta http-equiv=\"content-type\" content=\"text/html; charset=None\">\n",
              "  <style type=\"text/css\">\n",
              "/*\n",
              "generated by Pygments <https://pygments.org/>\n",
              "Copyright 2006-2024 by the Pygments team.\n",
              "Licensed under the BSD license, see LICENSE for details.\n",
              "*/\n",
              "pre { line-height: 125%; }\n",
              "td.linenos .normal { color: inherit; background-color: transparent; padding-left: 5px; padding-right: 5px; }\n",
              "span.linenos { color: inherit; background-color: transparent; padding-left: 5px; padding-right: 5px; }\n",
              "td.linenos .special { color: #000000; background-color: #ffffc0; padding-left: 5px; padding-right: 5px; }\n",
              "span.linenos.special { color: #000000; background-color: #ffffc0; padding-left: 5px; padding-right: 5px; }\n",
              "body .hll { background-color: #49483e }\n",
              "body { background: #272822; color: #f8f8f2 }\n",
              "body .c { color: #959077 } /* Comment */\n",
              "body .err { color: #ed007e; background-color: #1e0010 } /* Error */\n",
              "body .esc { color: #f8f8f2 } /* Escape */\n",
              "body .g { color: #f8f8f2 } /* Generic */\n",
              "body .k { color: #66d9ef } /* Keyword */\n",
              "body .l { color: #ae81ff } /* Literal */\n",
              "body .n { color: #f8f8f2 } /* Name */\n",
              "body .o { color: #ff4689 } /* Operator */\n",
              "body .x { color: #f8f8f2 } /* Other */\n",
              "body .p { color: #f8f8f2 } /* Punctuation */\n",
              "body .ch { color: #959077 } /* Comment.Hashbang */\n",
              "body .cm { color: #959077 } /* Comment.Multiline */\n",
              "body .cp { color: #959077 } /* Comment.Preproc */\n",
              "body .cpf { color: #959077 } /* Comment.PreprocFile */\n",
              "body .c1 { color: #959077 } /* Comment.Single */\n",
              "body .cs { color: #959077 } /* Comment.Special */\n",
              "body .gd { color: #ff4689 } /* Generic.Deleted */\n",
              "body .ge { color: #f8f8f2; font-style: italic } /* Generic.Emph */\n",
              "body .ges { color: #f8f8f2; font-weight: bold; font-style: italic } /* Generic.EmphStrong */\n",
              "body .gr { color: #f8f8f2 } /* Generic.Error */\n",
              "body .gh { color: #f8f8f2 } /* Generic.Heading */\n",
              "body .gi { color: #a6e22e } /* Generic.Inserted */\n",
              "body .go { color: #66d9ef } /* Generic.Output */\n",
              "body .gp { color: #ff4689; font-weight: bold } /* Generic.Prompt */\n",
              "body .gs { color: #f8f8f2; font-weight: bold } /* Generic.Strong */\n",
              "body .gu { color: #959077 } /* Generic.Subheading */\n",
              "body .gt { color: #f8f8f2 } /* Generic.Traceback */\n",
              "body .kc { color: #66d9ef } /* Keyword.Constant */\n",
              "body .kd { color: #66d9ef } /* Keyword.Declaration */\n",
              "body .kn { color: #ff4689 } /* Keyword.Namespace */\n",
              "body .kp { color: #66d9ef } /* Keyword.Pseudo */\n",
              "body .kr { color: #66d9ef } /* Keyword.Reserved */\n",
              "body .kt { color: #66d9ef } /* Keyword.Type */\n",
              "body .ld { color: #e6db74 } /* Literal.Date */\n",
              "body .m { color: #ae81ff } /* Literal.Number */\n",
              "body .s { color: #e6db74 } /* Literal.String */\n",
              "body .na { color: #a6e22e } /* Name.Attribute */\n",
              "body .nb { color: #f8f8f2 } /* Name.Builtin */\n",
              "body .nc { color: #a6e22e } /* Name.Class */\n",
              "body .no { color: #66d9ef } /* Name.Constant */\n",
              "body .nd { color: #a6e22e } /* Name.Decorator */\n",
              "body .ni { color: #f8f8f2 } /* Name.Entity */\n",
              "body .ne { color: #a6e22e } /* Name.Exception */\n",
              "body .nf { color: #a6e22e } /* Name.Function */\n",
              "body .nl { color: #f8f8f2 } /* Name.Label */\n",
              "body .nn { color: #f8f8f2 } /* Name.Namespace */\n",
              "body .nx { color: #a6e22e } /* Name.Other */\n",
              "body .py { color: #f8f8f2 } /* Name.Property */\n",
              "body .nt { color: #ff4689 } /* Name.Tag */\n",
              "body .nv { color: #f8f8f2 } /* Name.Variable */\n",
              "body .ow { color: #ff4689 } /* Operator.Word */\n",
              "body .pm { color: #f8f8f2 } /* Punctuation.Marker */\n",
              "body .w { color: #f8f8f2 } /* Text.Whitespace */\n",
              "body .mb { color: #ae81ff } /* Literal.Number.Bin */\n",
              "body .mf { color: #ae81ff } /* Literal.Number.Float */\n",
              "body .mh { color: #ae81ff } /* Literal.Number.Hex */\n",
              "body .mi { color: #ae81ff } /* Literal.Number.Integer */\n",
              "body .mo { color: #ae81ff } /* Literal.Number.Oct */\n",
              "body .sa { color: #e6db74 } /* Literal.String.Affix */\n",
              "body .sb { color: #e6db74 } /* Literal.String.Backtick */\n",
              "body .sc { color: #e6db74 } /* Literal.String.Char */\n",
              "body .dl { color: #e6db74 } /* Literal.String.Delimiter */\n",
              "body .sd { color: #e6db74 } /* Literal.String.Doc */\n",
              "body .s2 { color: #e6db74 } /* Literal.String.Double */\n",
              "body .se { color: #ae81ff } /* Literal.String.Escape */\n",
              "body .sh { color: #e6db74 } /* Literal.String.Heredoc */\n",
              "body .si { color: #e6db74 } /* Literal.String.Interpol */\n",
              "body .sx { color: #e6db74 } /* Literal.String.Other */\n",
              "body .sr { color: #e6db74 } /* Literal.String.Regex */\n",
              "body .s1 { color: #e6db74 } /* Literal.String.Single */\n",
              "body .ss { color: #e6db74 } /* Literal.String.Symbol */\n",
              "body .bp { color: #f8f8f2 } /* Name.Builtin.Pseudo */\n",
              "body .fm { color: #a6e22e } /* Name.Function.Magic */\n",
              "body .vc { color: #f8f8f2 } /* Name.Variable.Class */\n",
              "body .vg { color: #f8f8f2 } /* Name.Variable.Global */\n",
              "body .vi { color: #f8f8f2 } /* Name.Variable.Instance */\n",
              "body .vm { color: #f8f8f2 } /* Name.Variable.Magic */\n",
              "body .il { color: #ae81ff } /* Literal.Number.Integer.Long */\n",
              "\n",
              "  </style>\n",
              "</head>\n",
              "<body>\n",
              "<h2></h2>\n",
              "\n",
              "<div class=\"highlight\"><pre><span></span><span class=\"cm\">/**</span>\n",
              "<span class=\"cm\"> * Compressed Sparse Row.</span>\n",
              "<span class=\"cm\"> */</span>\n",
              "<span class=\"k\">typedef</span><span class=\"w\"> </span><span class=\"k\">struct</span><span class=\"w\"> </span><span class=\"nc\">csr</span>\n",
              "<span class=\"p\">{</span>\n",
              "<span class=\"w\">    </span><span class=\"kt\">int</span><span class=\"w\"> </span><span class=\"n\">m</span><span class=\"p\">;</span>\n",
              "<span class=\"w\">    </span><span class=\"kt\">int</span><span class=\"w\"> </span><span class=\"n\">n</span><span class=\"p\">;</span>\n",
              "<span class=\"w\">    </span><span class=\"kt\">int</span><span class=\"w\"> </span><span class=\"n\">nnz</span><span class=\"p\">;</span>\n",
              "<span class=\"w\">    </span><span class=\"kt\">float</span><span class=\"w\"> </span><span class=\"o\">*</span><span class=\"n\">values</span><span class=\"p\">;</span>\n",
              "<span class=\"w\">    </span><span class=\"kt\">int</span><span class=\"w\"> </span><span class=\"o\">*</span><span class=\"n\">col_index</span><span class=\"p\">;</span>\n",
              "<span class=\"w\">    </span><span class=\"kt\">int</span><span class=\"w\"> </span><span class=\"o\">*</span><span class=\"n\">row_ptr</span><span class=\"p\">;</span>\n",
              "<span class=\"p\">}</span><span class=\"w\"> </span><span class=\"n\">csr</span><span class=\"p\">;</span>\n",
              "\n",
              "<span class=\"kt\">void</span><span class=\"w\"> </span><span class=\"o\">*</span><span class=\"nf\">spmv_csr</span><span class=\"p\">(</span><span class=\"n\">csr</span><span class=\"w\"> </span><span class=\"o\">*</span><span class=\"n\">a</span><span class=\"p\">,</span><span class=\"w\"> </span><span class=\"kt\">float</span><span class=\"w\"> </span><span class=\"o\">*</span><span class=\"n\">v</span><span class=\"p\">,</span><span class=\"w\"> </span><span class=\"kt\">float</span><span class=\"w\"> </span><span class=\"o\">*</span><span class=\"n\">x</span><span class=\"p\">);</span>\n",
              "</pre></div>\n",
              "</body>\n",
              "</html>\n"
            ]
          },
          "metadata": {}
        }
      ]
    },
    {
      "cell_type": "markdown",
      "source": [
        "![csr.png](data:image/png;base64,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)"
      ],
      "metadata": {
        "id": "3aosjCZLT5FE"
      }
    },
    {
      "cell_type": "markdown",
      "source": [
        "Consideremos la siguiente multiplicación matriz-vector."
      ],
      "metadata": {
        "id": "H-jLhAicWmZL"
      }
    },
    {
      "cell_type": "markdown",
      "source": [
        "\\begin{align*}\n",
        "\\begin{bmatrix}\n",
        "5 & 1 & 7 & 0 & 0 \\\\\n",
        "0 & 1 & 0 & 2 & 3 \\\\\n",
        "0 & 2 & 4 & 0 & 0 \\\\\n",
        "0 & 0 & 1 & 3 & 0 \\\\\n",
        "0 & 6 & 0 & 0 & 3\n",
        "\\end{bmatrix}\n",
        "\\begin{bmatrix}\n",
        "0 \\\\\n",
        "1 \\\\\n",
        "2 \\\\\n",
        "3 \\\\\n",
        "4\n",
        "\\end{bmatrix}\n",
        "\\end{align*}"
      ],
      "metadata": {
        "id": "GL741EEJEf8p"
      }
    },
    {
      "cell_type": "markdown",
      "source": [
        "A continuación se muestra el código para realizar la multiplicación matriz vector utilizando formato CSR"
      ],
      "metadata": {
        "id": "VW4bzz_nE6kR"
      }
    },
    {
      "cell_type": "code",
      "source": [
        "show_c_code('sparse_matrices/csr/csr.c')"
      ],
      "metadata": {
        "colab": {
          "base_uri": "https://localhost:8080/",
          "height": 419
        },
        "id": "npyBzrmB5yuD",
        "outputId": "37793d14-70ec-47a1-cc8d-e77ec1f99891"
      },
      "execution_count": 4,
      "outputs": [
        {
          "output_type": "display_data",
          "data": {
            "text/plain": [
              "<IPython.core.display.HTML object>"
            ],
            "text/html": [
              "<!DOCTYPE html PUBLIC \"-//W3C//DTD HTML 4.01//EN\"\n",
              "   \"http://www.w3.org/TR/html4/strict.dtd\">\n",
              "<!--\n",
              "generated by Pygments <https://pygments.org/>\n",
              "Copyright 2006-2024 by the Pygments team.\n",
              "Licensed under the BSD license, see LICENSE for details.\n",
              "-->\n",
              "<html>\n",
              "<head>\n",
              "  <title></title>\n",
              "  <meta http-equiv=\"content-type\" content=\"text/html; charset=None\">\n",
              "  <style type=\"text/css\">\n",
              "/*\n",
              "generated by Pygments <https://pygments.org/>\n",
              "Copyright 2006-2024 by the Pygments team.\n",
              "Licensed under the BSD license, see LICENSE for details.\n",
              "*/\n",
              "pre { line-height: 125%; }\n",
              "td.linenos .normal { color: inherit; background-color: transparent; padding-left: 5px; padding-right: 5px; }\n",
              "span.linenos { color: inherit; background-color: transparent; padding-left: 5px; padding-right: 5px; }\n",
              "td.linenos .special { color: #000000; background-color: #ffffc0; padding-left: 5px; padding-right: 5px; }\n",
              "span.linenos.special { color: #000000; background-color: #ffffc0; padding-left: 5px; padding-right: 5px; }\n",
              "body .hll { background-color: #49483e }\n",
              "body { background: #272822; color: #f8f8f2 }\n",
              "body .c { color: #959077 } /* Comment */\n",
              "body .err { color: #ed007e; background-color: #1e0010 } /* Error */\n",
              "body .esc { color: #f8f8f2 } /* Escape */\n",
              "body .g { color: #f8f8f2 } /* Generic */\n",
              "body .k { color: #66d9ef } /* Keyword */\n",
              "body .l { color: #ae81ff } /* Literal */\n",
              "body .n { color: #f8f8f2 } /* Name */\n",
              "body .o { color: #ff4689 } /* Operator */\n",
              "body .x { color: #f8f8f2 } /* Other */\n",
              "body .p { color: #f8f8f2 } /* Punctuation */\n",
              "body .ch { color: #959077 } /* Comment.Hashbang */\n",
              "body .cm { color: #959077 } /* Comment.Multiline */\n",
              "body .cp { color: #959077 } /* Comment.Preproc */\n",
              "body .cpf { color: #959077 } /* Comment.PreprocFile */\n",
              "body .c1 { color: #959077 } /* Comment.Single */\n",
              "body .cs { color: #959077 } /* Comment.Special */\n",
              "body .gd { color: #ff4689 } /* Generic.Deleted */\n",
              "body .ge { color: #f8f8f2; font-style: italic } /* Generic.Emph */\n",
              "body .ges { color: #f8f8f2; font-weight: bold; font-style: italic } /* Generic.EmphStrong */\n",
              "body .gr { color: #f8f8f2 } /* Generic.Error */\n",
              "body .gh { color: #f8f8f2 } /* Generic.Heading */\n",
              "body .gi { color: #a6e22e } /* Generic.Inserted */\n",
              "body .go { color: #66d9ef } /* Generic.Output */\n",
              "body .gp { color: #ff4689; font-weight: bold } /* Generic.Prompt */\n",
              "body .gs { color: #f8f8f2; font-weight: bold } /* Generic.Strong */\n",
              "body .gu { color: #959077 } /* Generic.Subheading */\n",
              "body .gt { color: #f8f8f2 } /* Generic.Traceback */\n",
              "body .kc { color: #66d9ef } /* Keyword.Constant */\n",
              "body .kd { color: #66d9ef } /* Keyword.Declaration */\n",
              "body .kn { color: #ff4689 } /* Keyword.Namespace */\n",
              "body .kp { color: #66d9ef } /* Keyword.Pseudo */\n",
              "body .kr { color: #66d9ef } /* Keyword.Reserved */\n",
              "body .kt { color: #66d9ef } /* Keyword.Type */\n",
              "body .ld { color: #e6db74 } /* Literal.Date */\n",
              "body .m { color: #ae81ff } /* Literal.Number */\n",
              "body .s { color: #e6db74 } /* Literal.String */\n",
              "body .na { color: #a6e22e } /* Name.Attribute */\n",
              "body .nb { color: #f8f8f2 } /* Name.Builtin */\n",
              "body .nc { color: #a6e22e } /* Name.Class */\n",
              "body .no { color: #66d9ef } /* Name.Constant */\n",
              "body .nd { color: #a6e22e } /* Name.Decorator */\n",
              "body .ni { color: #f8f8f2 } /* Name.Entity */\n",
              "body .ne { color: #a6e22e } /* Name.Exception */\n",
              "body .nf { color: #a6e22e } /* Name.Function */\n",
              "body .nl { color: #f8f8f2 } /* Name.Label */\n",
              "body .nn { color: #f8f8f2 } /* Name.Namespace */\n",
              "body .nx { color: #a6e22e } /* Name.Other */\n",
              "body .py { color: #f8f8f2 } /* Name.Property */\n",
              "body .nt { color: #ff4689 } /* Name.Tag */\n",
              "body .nv { color: #f8f8f2 } /* Name.Variable */\n",
              "body .ow { color: #ff4689 } /* Operator.Word */\n",
              "body .pm { color: #f8f8f2 } /* Punctuation.Marker */\n",
              "body .w { color: #f8f8f2 } /* Text.Whitespace */\n",
              "body .mb { color: #ae81ff } /* Literal.Number.Bin */\n",
              "body .mf { color: #ae81ff } /* Literal.Number.Float */\n",
              "body .mh { color: #ae81ff } /* Literal.Number.Hex */\n",
              "body .mi { color: #ae81ff } /* Literal.Number.Integer */\n",
              "body .mo { color: #ae81ff } /* Literal.Number.Oct */\n",
              "body .sa { color: #e6db74 } /* Literal.String.Affix */\n",
              "body .sb { color: #e6db74 } /* Literal.String.Backtick */\n",
              "body .sc { color: #e6db74 } /* Literal.String.Char */\n",
              "body .dl { color: #e6db74 } /* Literal.String.Delimiter */\n",
              "body .sd { color: #e6db74 } /* Literal.String.Doc */\n",
              "body .s2 { color: #e6db74 } /* Literal.String.Double */\n",
              "body .se { color: #ae81ff } /* Literal.String.Escape */\n",
              "body .sh { color: #e6db74 } /* Literal.String.Heredoc */\n",
              "body .si { color: #e6db74 } /* Literal.String.Interpol */\n",
              "body .sx { color: #e6db74 } /* Literal.String.Other */\n",
              "body .sr { color: #e6db74 } /* Literal.String.Regex */\n",
              "body .s1 { color: #e6db74 } /* Literal.String.Single */\n",
              "body .ss { color: #e6db74 } /* Literal.String.Symbol */\n",
              "body .bp { color: #f8f8f2 } /* Name.Builtin.Pseudo */\n",
              "body .fm { color: #a6e22e } /* Name.Function.Magic */\n",
              "body .vc { color: #f8f8f2 } /* Name.Variable.Class */\n",
              "body .vg { color: #f8f8f2 } /* Name.Variable.Global */\n",
              "body .vi { color: #f8f8f2 } /* Name.Variable.Instance */\n",
              "body .vm { color: #f8f8f2 } /* Name.Variable.Magic */\n",
              "body .il { color: #ae81ff } /* Literal.Number.Integer.Long */\n",
              "\n",
              "  </style>\n",
              "</head>\n",
              "<body>\n",
              "<h2></h2>\n",
              "\n",
              "<div class=\"highlight\"><pre><span></span><span class=\"cp\">#include</span><span class=\"w\"> </span><span class=\"cpf\">&quot;csr.h&quot;</span>\n",
              "\n",
              "<span class=\"kt\">void</span><span class=\"w\"> </span><span class=\"o\">*</span><span class=\"nf\">spmv_csr</span><span class=\"p\">(</span><span class=\"n\">csr</span><span class=\"w\"> </span><span class=\"o\">*</span><span class=\"n\">a</span><span class=\"p\">,</span><span class=\"w\"> </span><span class=\"kt\">float</span><span class=\"w\"> </span><span class=\"o\">*</span><span class=\"n\">v</span><span class=\"p\">,</span><span class=\"w\"> </span><span class=\"kt\">float</span><span class=\"w\"> </span><span class=\"o\">*</span><span class=\"n\">x</span><span class=\"p\">)</span>\n",
              "<span class=\"p\">{</span>\n",
              "<span class=\"w\">    </span><span class=\"kt\">int</span><span class=\"w\"> </span><span class=\"n\">m</span><span class=\"w\"> </span><span class=\"o\">=</span><span class=\"w\"> </span><span class=\"n\">a</span><span class=\"o\">-&gt;</span><span class=\"n\">m</span><span class=\"p\">;</span>\n",
              "\n",
              "<span class=\"w\">    </span><span class=\"k\">for</span><span class=\"w\"> </span><span class=\"p\">(</span><span class=\"kt\">int</span><span class=\"w\"> </span><span class=\"n\">i</span><span class=\"w\"> </span><span class=\"o\">=</span><span class=\"w\"> </span><span class=\"mi\">0</span><span class=\"p\">;</span><span class=\"w\"> </span><span class=\"n\">i</span><span class=\"w\"> </span><span class=\"o\">&lt;</span><span class=\"w\"> </span><span class=\"n\">m</span><span class=\"p\">;</span><span class=\"w\"> </span><span class=\"n\">i</span><span class=\"o\">++</span><span class=\"p\">)</span>\n",
              "<span class=\"w\">    </span><span class=\"p\">{</span>\n",
              "<span class=\"w\">        </span><span class=\"kt\">int</span><span class=\"w\"> </span><span class=\"n\">row_start_idx</span><span class=\"w\"> </span><span class=\"o\">=</span><span class=\"w\"> </span><span class=\"n\">a</span><span class=\"o\">-&gt;</span><span class=\"n\">row_ptr</span><span class=\"p\">[</span><span class=\"n\">i</span><span class=\"p\">];</span>\n",
              "<span class=\"w\">        </span><span class=\"kt\">int</span><span class=\"w\"> </span><span class=\"n\">row_end_idx</span><span class=\"w\"> </span><span class=\"o\">=</span><span class=\"w\"> </span><span class=\"n\">a</span><span class=\"o\">-&gt;</span><span class=\"n\">row_ptr</span><span class=\"p\">[</span><span class=\"n\">i</span><span class=\"w\"> </span><span class=\"o\">+</span><span class=\"w\"> </span><span class=\"mi\">1</span><span class=\"p\">];</span>\n",
              "\n",
              "<span class=\"w\">        </span><span class=\"kt\">float</span><span class=\"w\"> </span><span class=\"n\">xi</span><span class=\"w\"> </span><span class=\"o\">=</span><span class=\"w\"> </span><span class=\"mi\">0</span><span class=\"p\">;</span>\n",
              "\n",
              "<span class=\"w\">        </span><span class=\"k\">for</span><span class=\"w\"> </span><span class=\"p\">(</span><span class=\"kt\">int</span><span class=\"w\"> </span><span class=\"n\">k</span><span class=\"w\"> </span><span class=\"o\">=</span><span class=\"w\"> </span><span class=\"n\">row_start_idx</span><span class=\"p\">;</span><span class=\"w\"> </span><span class=\"n\">k</span><span class=\"w\"> </span><span class=\"o\">&lt;</span><span class=\"w\"> </span><span class=\"n\">row_end_idx</span><span class=\"p\">;</span><span class=\"w\"> </span><span class=\"n\">k</span><span class=\"o\">++</span><span class=\"p\">)</span>\n",
              "<span class=\"w\">        </span><span class=\"p\">{</span>\n",
              "<span class=\"w\">            </span><span class=\"kt\">int</span><span class=\"w\"> </span><span class=\"n\">col</span><span class=\"w\"> </span><span class=\"o\">=</span><span class=\"w\"> </span><span class=\"n\">a</span><span class=\"o\">-&gt;</span><span class=\"n\">col_index</span><span class=\"p\">[</span><span class=\"n\">k</span><span class=\"p\">];</span>\n",
              "<span class=\"w\">            </span><span class=\"n\">xi</span><span class=\"w\"> </span><span class=\"o\">+=</span><span class=\"w\"> </span><span class=\"n\">v</span><span class=\"p\">[</span><span class=\"n\">col</span><span class=\"p\">]</span><span class=\"w\"> </span><span class=\"o\">*</span><span class=\"w\"> </span><span class=\"n\">a</span><span class=\"o\">-&gt;</span><span class=\"n\">values</span><span class=\"p\">[</span><span class=\"n\">k</span><span class=\"p\">];</span>\n",
              "<span class=\"w\">        </span><span class=\"p\">}</span>\n",
              "\n",
              "<span class=\"w\">        </span><span class=\"n\">x</span><span class=\"p\">[</span><span class=\"n\">i</span><span class=\"p\">]</span><span class=\"w\"> </span><span class=\"o\">=</span><span class=\"w\"> </span><span class=\"n\">xi</span><span class=\"p\">;</span>\n",
              "<span class=\"w\">    </span><span class=\"p\">}</span>\n",
              "<span class=\"p\">}</span>\n",
              "</pre></div>\n",
              "</body>\n",
              "</html>\n"
            ]
          },
          "metadata": {}
        }
      ]
    },
    {
      "cell_type": "markdown",
      "source": [
        "Si bien este formato de matriz dispersa es ampliamente utilizado, presenta algunas desventajas.\n",
        "\n",
        "En primer lugar, el algoritmo de `spmv_csr` padece de **accesos a memoria irregulares**. Nótese que al calcular `x[i]` accedemos al vector `v` mediante el índice de columna `col`, el cual se obtiene mediante `row_ptr[i]`. Los índices almacenados en `row_ptr` tienen una naturaleza irregluar, ya que a prori no sabemos cuantos elementos no nulos tiene cada fila de la matriz. Por lo tanto, los accesos a `v` serán irregulares. Esto resulta en mala utilización de la memoria de acceso rápido como el caché y los registros.\n",
        "\n",
        "Por otra parte, es posible implementar el algoritmo de `spmv_csr` de forma paralela, ya que cada fila de la matriz se puede procesar independientemente de las otras. Sin embargo, el acceso irregular a memoria también causaría un cuello de botella en este caso, por lo que no sería recomendable utilizar CSR para implementar SpMV paralelo,"
      ],
      "metadata": {
        "id": "GtZxVeLlY4pS"
      }
    },
    {
      "cell_type": "code",
      "source": [
        "!gcc sparse_matrices/csr/csr_demo.c sparse_matrices/csr/csr.c -o csr_demo && ./csr_demo"
      ],
      "metadata": {
        "colab": {
          "base_uri": "https://localhost:8080/"
        },
        "id": "TjniMlYo58pK",
        "outputId": "6983f1ca-4577-45b5-804a-3e9648438678"
      },
      "execution_count": 5,
      "outputs": [
        {
          "output_type": "stream",
          "name": "stdout",
          "text": [
            "15.0 19.0 10.0 11.0 18.0 "
          ]
        }
      ]
    },
    {
      "cell_type": "markdown",
      "source": [
        "## Blocked Compressed Sparse Row (BCSR)"
      ],
      "metadata": {
        "id": "1MijrbkyAAtK"
      }
    },
    {
      "cell_type": "markdown",
      "source": [
        "El formato BCSR fue propuesto por Ali Pinar en su artículo \"_Improving Performance of Sparse Matrix-Vector Multiplication_\" apunta a mejorar la eficiencia en el uso de memoria de CSR. Está diseñada para reducir la cantidad de operaciones `LOAD`. Consiste en una estructura similar a CSR, pero que incluye otro array adicional:\n",
        "- `values` es una lista de largo `nnz` tal que `nnz` es la cantidad de elementos no nulos en la matriz. `values` está ordenada en _row-major_.\n",
        "- `col_index` es una lista de largo `n_blocks` donde `n_blocks` es la cantidad de bloques utilizados para subdividir la matriz. Cada elemento `col_index[i]` es el índice de columna correspondiente al primer elemento no nulo del bloque `i`.\n",
        "- `row_ptr` es una lista de largo `m + 1` donde `m` es la cantidad de filas. `row_ptr[i]` es el índice en la lista `col_index` que indica la posición del primer elemento no nulo en la fila `i`. Es decir, `col_index[row_ptr[i]]` es la columna del primer elemento del primer bloque en la fila `i`.\n",
        "- `nz_ptr` es una lista de largo `n_blocks + 1` donde cada elemento `nz_ptr[i]` almacena el índice en la lista `values` correspondiente al primer elemento del bloque `i`. Es decir, `values[nz_ptr[i]]` es el elemento de la matriz en la primera posición del bloque `i`."
      ],
      "metadata": {
        "id": "nql7T1wsFcux"
      }
    },
    {
      "cell_type": "code",
      "source": [
        "show_c_code('sparse_matrices/bcsr/bcsr.h')"
      ],
      "metadata": {
        "id": "jDILxHvJ6i3a",
        "colab": {
          "base_uri": "https://localhost:8080/",
          "height": 314
        },
        "outputId": "7f8515dd-32ab-4388-a53c-c61967bc8bff"
      },
      "execution_count": 6,
      "outputs": [
        {
          "output_type": "display_data",
          "data": {
            "text/plain": [
              "<IPython.core.display.HTML object>"
            ],
            "text/html": [
              "<!DOCTYPE html PUBLIC \"-//W3C//DTD HTML 4.01//EN\"\n",
              "   \"http://www.w3.org/TR/html4/strict.dtd\">\n",
              "<!--\n",
              "generated by Pygments <https://pygments.org/>\n",
              "Copyright 2006-2024 by the Pygments team.\n",
              "Licensed under the BSD license, see LICENSE for details.\n",
              "-->\n",
              "<html>\n",
              "<head>\n",
              "  <title></title>\n",
              "  <meta http-equiv=\"content-type\" content=\"text/html; charset=None\">\n",
              "  <style type=\"text/css\">\n",
              "/*\n",
              "generated by Pygments <https://pygments.org/>\n",
              "Copyright 2006-2024 by the Pygments team.\n",
              "Licensed under the BSD license, see LICENSE for details.\n",
              "*/\n",
              "pre { line-height: 125%; }\n",
              "td.linenos .normal { color: inherit; background-color: transparent; padding-left: 5px; padding-right: 5px; }\n",
              "span.linenos { color: inherit; background-color: transparent; padding-left: 5px; padding-right: 5px; }\n",
              "td.linenos .special { color: #000000; background-color: #ffffc0; padding-left: 5px; padding-right: 5px; }\n",
              "span.linenos.special { color: #000000; background-color: #ffffc0; padding-left: 5px; padding-right: 5px; }\n",
              "body .hll { background-color: #49483e }\n",
              "body { background: #272822; color: #f8f8f2 }\n",
              "body .c { color: #959077 } /* Comment */\n",
              "body .err { color: #ed007e; background-color: #1e0010 } /* Error */\n",
              "body .esc { color: #f8f8f2 } /* Escape */\n",
              "body .g { color: #f8f8f2 } /* Generic */\n",
              "body .k { color: #66d9ef } /* Keyword */\n",
              "body .l { color: #ae81ff } /* Literal */\n",
              "body .n { color: #f8f8f2 } /* Name */\n",
              "body .o { color: #ff4689 } /* Operator */\n",
              "body .x { color: #f8f8f2 } /* Other */\n",
              "body .p { color: #f8f8f2 } /* Punctuation */\n",
              "body .ch { color: #959077 } /* Comment.Hashbang */\n",
              "body .cm { color: #959077 } /* Comment.Multiline */\n",
              "body .cp { color: #959077 } /* Comment.Preproc */\n",
              "body .cpf { color: #959077 } /* Comment.PreprocFile */\n",
              "body .c1 { color: #959077 } /* Comment.Single */\n",
              "body .cs { color: #959077 } /* Comment.Special */\n",
              "body .gd { color: #ff4689 } /* Generic.Deleted */\n",
              "body .ge { color: #f8f8f2; font-style: italic } /* Generic.Emph */\n",
              "body .ges { color: #f8f8f2; font-weight: bold; font-style: italic } /* Generic.EmphStrong */\n",
              "body .gr { color: #f8f8f2 } /* Generic.Error */\n",
              "body .gh { color: #f8f8f2 } /* Generic.Heading */\n",
              "body .gi { color: #a6e22e } /* Generic.Inserted */\n",
              "body .go { color: #66d9ef } /* Generic.Output */\n",
              "body .gp { color: #ff4689; font-weight: bold } /* Generic.Prompt */\n",
              "body .gs { color: #f8f8f2; font-weight: bold } /* Generic.Strong */\n",
              "body .gu { color: #959077 } /* Generic.Subheading */\n",
              "body .gt { color: #f8f8f2 } /* Generic.Traceback */\n",
              "body .kc { color: #66d9ef } /* Keyword.Constant */\n",
              "body .kd { color: #66d9ef } /* Keyword.Declaration */\n",
              "body .kn { color: #ff4689 } /* Keyword.Namespace */\n",
              "body .kp { color: #66d9ef } /* Keyword.Pseudo */\n",
              "body .kr { color: #66d9ef } /* Keyword.Reserved */\n",
              "body .kt { color: #66d9ef } /* Keyword.Type */\n",
              "body .ld { color: #e6db74 } /* Literal.Date */\n",
              "body .m { color: #ae81ff } /* Literal.Number */\n",
              "body .s { color: #e6db74 } /* Literal.String */\n",
              "body .na { color: #a6e22e } /* Name.Attribute */\n",
              "body .nb { color: #f8f8f2 } /* Name.Builtin */\n",
              "body .nc { color: #a6e22e } /* Name.Class */\n",
              "body .no { color: #66d9ef } /* Name.Constant */\n",
              "body .nd { color: #a6e22e } /* Name.Decorator */\n",
              "body .ni { color: #f8f8f2 } /* Name.Entity */\n",
              "body .ne { color: #a6e22e } /* Name.Exception */\n",
              "body .nf { color: #a6e22e } /* Name.Function */\n",
              "body .nl { color: #f8f8f2 } /* Name.Label */\n",
              "body .nn { color: #f8f8f2 } /* Name.Namespace */\n",
              "body .nx { color: #a6e22e } /* Name.Other */\n",
              "body .py { color: #f8f8f2 } /* Name.Property */\n",
              "body .nt { color: #ff4689 } /* Name.Tag */\n",
              "body .nv { color: #f8f8f2 } /* Name.Variable */\n",
              "body .ow { color: #ff4689 } /* Operator.Word */\n",
              "body .pm { color: #f8f8f2 } /* Punctuation.Marker */\n",
              "body .w { color: #f8f8f2 } /* Text.Whitespace */\n",
              "body .mb { color: #ae81ff } /* Literal.Number.Bin */\n",
              "body .mf { color: #ae81ff } /* Literal.Number.Float */\n",
              "body .mh { color: #ae81ff } /* Literal.Number.Hex */\n",
              "body .mi { color: #ae81ff } /* Literal.Number.Integer */\n",
              "body .mo { color: #ae81ff } /* Literal.Number.Oct */\n",
              "body .sa { color: #e6db74 } /* Literal.String.Affix */\n",
              "body .sb { color: #e6db74 } /* Literal.String.Backtick */\n",
              "body .sc { color: #e6db74 } /* Literal.String.Char */\n",
              "body .dl { color: #e6db74 } /* Literal.String.Delimiter */\n",
              "body .sd { color: #e6db74 } /* Literal.String.Doc */\n",
              "body .s2 { color: #e6db74 } /* Literal.String.Double */\n",
              "body .se { color: #ae81ff } /* Literal.String.Escape */\n",
              "body .sh { color: #e6db74 } /* Literal.String.Heredoc */\n",
              "body .si { color: #e6db74 } /* Literal.String.Interpol */\n",
              "body .sx { color: #e6db74 } /* Literal.String.Other */\n",
              "body .sr { color: #e6db74 } /* Literal.String.Regex */\n",
              "body .s1 { color: #e6db74 } /* Literal.String.Single */\n",
              "body .ss { color: #e6db74 } /* Literal.String.Symbol */\n",
              "body .bp { color: #f8f8f2 } /* Name.Builtin.Pseudo */\n",
              "body .fm { color: #a6e22e } /* Name.Function.Magic */\n",
              "body .vc { color: #f8f8f2 } /* Name.Variable.Class */\n",
              "body .vg { color: #f8f8f2 } /* Name.Variable.Global */\n",
              "body .vi { color: #f8f8f2 } /* Name.Variable.Instance */\n",
              "body .vm { color: #f8f8f2 } /* Name.Variable.Magic */\n",
              "body .il { color: #ae81ff } /* Literal.Number.Integer.Long */\n",
              "\n",
              "  </style>\n",
              "</head>\n",
              "<body>\n",
              "<h2></h2>\n",
              "\n",
              "<div class=\"highlight\"><pre><span></span><span class=\"cm\">/**</span>\n",
              "<span class=\"cm\"> * Blocked Compressed Sparse Row.</span>\n",
              "<span class=\"cm\"> */</span>\n",
              "<span class=\"k\">typedef</span><span class=\"w\"> </span><span class=\"k\">struct</span><span class=\"w\"> </span><span class=\"nc\">bcsr</span>\n",
              "<span class=\"p\">{</span>\n",
              "<span class=\"w\">    </span><span class=\"kt\">int</span><span class=\"w\"> </span><span class=\"n\">m</span><span class=\"p\">;</span>\n",
              "<span class=\"w\">    </span><span class=\"kt\">int</span><span class=\"w\"> </span><span class=\"n\">n</span><span class=\"p\">;</span>\n",
              "<span class=\"w\">    </span><span class=\"kt\">int</span><span class=\"w\"> </span><span class=\"n\">nnz</span><span class=\"p\">;</span>\n",
              "<span class=\"w\">    </span><span class=\"kt\">int</span><span class=\"w\"> </span><span class=\"n\">n_blocks</span><span class=\"p\">;</span>\n",
              "<span class=\"w\">    </span><span class=\"kt\">float</span><span class=\"w\"> </span><span class=\"o\">*</span><span class=\"n\">values</span><span class=\"p\">;</span>\n",
              "<span class=\"w\">    </span><span class=\"kt\">int</span><span class=\"w\"> </span><span class=\"o\">*</span><span class=\"n\">col_index</span><span class=\"p\">;</span>\n",
              "<span class=\"w\">    </span><span class=\"kt\">int</span><span class=\"w\"> </span><span class=\"o\">*</span><span class=\"n\">row_ptr</span><span class=\"p\">;</span>\n",
              "<span class=\"w\">    </span><span class=\"kt\">int</span><span class=\"w\"> </span><span class=\"o\">*</span><span class=\"n\">nz_ptr</span><span class=\"p\">;</span>\n",
              "<span class=\"p\">}</span><span class=\"w\"> </span><span class=\"n\">bcsr</span><span class=\"p\">;</span>\n",
              "\n",
              "<span class=\"kt\">void</span><span class=\"w\"> </span><span class=\"nf\">spmv_bcsr</span><span class=\"p\">(</span><span class=\"n\">bcsr</span><span class=\"w\"> </span><span class=\"o\">*</span><span class=\"n\">a</span><span class=\"p\">,</span><span class=\"w\"> </span><span class=\"kt\">float</span><span class=\"w\"> </span><span class=\"o\">*</span><span class=\"n\">v</span><span class=\"p\">,</span><span class=\"w\"> </span><span class=\"kt\">float</span><span class=\"w\"> </span><span class=\"o\">*</span><span class=\"n\">x</span><span class=\"p\">);</span>\n",
              "</pre></div>\n",
              "</body>\n",
              "</html>\n"
            ]
          },
          "metadata": {}
        }
      ]
    },
    {
      "cell_type": "markdown",
      "source": [
        "Con esta representación los accesos a la memoria se regularizan un poco más, especialmente el acceso a los elementos del vector `v`. Nótese que para calcular `xi` se iteran sobre los bloques de la fila `i` y luego sobre los elementos de cada bloque. Como los bloques tienen elementos contiguos, los accesos a `v` por bloque también seran contiguos."
      ],
      "metadata": {
        "id": "J2zzaYNbli0p"
      }
    },
    {
      "cell_type": "code",
      "source": [
        "show_c_code('sparse_matrices/bcsr/bcsr.c')"
      ],
      "metadata": {
        "colab": {
          "base_uri": "https://localhost:8080/",
          "height": 577
        },
        "id": "W1_9M54KAHFj",
        "outputId": "7a2e7527-5799-4a93-d57b-89eca06423ad"
      },
      "execution_count": 7,
      "outputs": [
        {
          "output_type": "display_data",
          "data": {
            "text/plain": [
              "<IPython.core.display.HTML object>"
            ],
            "text/html": [
              "<!DOCTYPE html PUBLIC \"-//W3C//DTD HTML 4.01//EN\"\n",
              "   \"http://www.w3.org/TR/html4/strict.dtd\">\n",
              "<!--\n",
              "generated by Pygments <https://pygments.org/>\n",
              "Copyright 2006-2024 by the Pygments team.\n",
              "Licensed under the BSD license, see LICENSE for details.\n",
              "-->\n",
              "<html>\n",
              "<head>\n",
              "  <title></title>\n",
              "  <meta http-equiv=\"content-type\" content=\"text/html; charset=None\">\n",
              "  <style type=\"text/css\">\n",
              "/*\n",
              "generated by Pygments <https://pygments.org/>\n",
              "Copyright 2006-2024 by the Pygments team.\n",
              "Licensed under the BSD license, see LICENSE for details.\n",
              "*/\n",
              "pre { line-height: 125%; }\n",
              "td.linenos .normal { color: inherit; background-color: transparent; padding-left: 5px; padding-right: 5px; }\n",
              "span.linenos { color: inherit; background-color: transparent; padding-left: 5px; padding-right: 5px; }\n",
              "td.linenos .special { color: #000000; background-color: #ffffc0; padding-left: 5px; padding-right: 5px; }\n",
              "span.linenos.special { color: #000000; background-color: #ffffc0; padding-left: 5px; padding-right: 5px; }\n",
              "body .hll { background-color: #49483e }\n",
              "body { background: #272822; color: #f8f8f2 }\n",
              "body .c { color: #959077 } /* Comment */\n",
              "body .err { color: #ed007e; background-color: #1e0010 } /* Error */\n",
              "body .esc { color: #f8f8f2 } /* Escape */\n",
              "body .g { color: #f8f8f2 } /* Generic */\n",
              "body .k { color: #66d9ef } /* Keyword */\n",
              "body .l { color: #ae81ff } /* Literal */\n",
              "body .n { color: #f8f8f2 } /* Name */\n",
              "body .o { color: #ff4689 } /* Operator */\n",
              "body .x { color: #f8f8f2 } /* Other */\n",
              "body .p { color: #f8f8f2 } /* Punctuation */\n",
              "body .ch { color: #959077 } /* Comment.Hashbang */\n",
              "body .cm { color: #959077 } /* Comment.Multiline */\n",
              "body .cp { color: #959077 } /* Comment.Preproc */\n",
              "body .cpf { color: #959077 } /* Comment.PreprocFile */\n",
              "body .c1 { color: #959077 } /* Comment.Single */\n",
              "body .cs { color: #959077 } /* Comment.Special */\n",
              "body .gd { color: #ff4689 } /* Generic.Deleted */\n",
              "body .ge { color: #f8f8f2; font-style: italic } /* Generic.Emph */\n",
              "body .ges { color: #f8f8f2; font-weight: bold; font-style: italic } /* Generic.EmphStrong */\n",
              "body .gr { color: #f8f8f2 } /* Generic.Error */\n",
              "body .gh { color: #f8f8f2 } /* Generic.Heading */\n",
              "body .gi { color: #a6e22e } /* Generic.Inserted */\n",
              "body .go { color: #66d9ef } /* Generic.Output */\n",
              "body .gp { color: #ff4689; font-weight: bold } /* Generic.Prompt */\n",
              "body .gs { color: #f8f8f2; font-weight: bold } /* Generic.Strong */\n",
              "body .gu { color: #959077 } /* Generic.Subheading */\n",
              "body .gt { color: #f8f8f2 } /* Generic.Traceback */\n",
              "body .kc { color: #66d9ef } /* Keyword.Constant */\n",
              "body .kd { color: #66d9ef } /* Keyword.Declaration */\n",
              "body .kn { color: #ff4689 } /* Keyword.Namespace */\n",
              "body .kp { color: #66d9ef } /* Keyword.Pseudo */\n",
              "body .kr { color: #66d9ef } /* Keyword.Reserved */\n",
              "body .kt { color: #66d9ef } /* Keyword.Type */\n",
              "body .ld { color: #e6db74 } /* Literal.Date */\n",
              "body .m { color: #ae81ff } /* Literal.Number */\n",
              "body .s { color: #e6db74 } /* Literal.String */\n",
              "body .na { color: #a6e22e } /* Name.Attribute */\n",
              "body .nb { color: #f8f8f2 } /* Name.Builtin */\n",
              "body .nc { color: #a6e22e } /* Name.Class */\n",
              "body .no { color: #66d9ef } /* Name.Constant */\n",
              "body .nd { color: #a6e22e } /* Name.Decorator */\n",
              "body .ni { color: #f8f8f2 } /* Name.Entity */\n",
              "body .ne { color: #a6e22e } /* Name.Exception */\n",
              "body .nf { color: #a6e22e } /* Name.Function */\n",
              "body .nl { color: #f8f8f2 } /* Name.Label */\n",
              "body .nn { color: #f8f8f2 } /* Name.Namespace */\n",
              "body .nx { color: #a6e22e } /* Name.Other */\n",
              "body .py { color: #f8f8f2 } /* Name.Property */\n",
              "body .nt { color: #ff4689 } /* Name.Tag */\n",
              "body .nv { color: #f8f8f2 } /* Name.Variable */\n",
              "body .ow { color: #ff4689 } /* Operator.Word */\n",
              "body .pm { color: #f8f8f2 } /* Punctuation.Marker */\n",
              "body .w { color: #f8f8f2 } /* Text.Whitespace */\n",
              "body .mb { color: #ae81ff } /* Literal.Number.Bin */\n",
              "body .mf { color: #ae81ff } /* Literal.Number.Float */\n",
              "body .mh { color: #ae81ff } /* Literal.Number.Hex */\n",
              "body .mi { color: #ae81ff } /* Literal.Number.Integer */\n",
              "body .mo { color: #ae81ff } /* Literal.Number.Oct */\n",
              "body .sa { color: #e6db74 } /* Literal.String.Affix */\n",
              "body .sb { color: #e6db74 } /* Literal.String.Backtick */\n",
              "body .sc { color: #e6db74 } /* Literal.String.Char */\n",
              "body .dl { color: #e6db74 } /* Literal.String.Delimiter */\n",
              "body .sd { color: #e6db74 } /* Literal.String.Doc */\n",
              "body .s2 { color: #e6db74 } /* Literal.String.Double */\n",
              "body .se { color: #ae81ff } /* Literal.String.Escape */\n",
              "body .sh { color: #e6db74 } /* Literal.String.Heredoc */\n",
              "body .si { color: #e6db74 } /* Literal.String.Interpol */\n",
              "body .sx { color: #e6db74 } /* Literal.String.Other */\n",
              "body .sr { color: #e6db74 } /* Literal.String.Regex */\n",
              "body .s1 { color: #e6db74 } /* Literal.String.Single */\n",
              "body .ss { color: #e6db74 } /* Literal.String.Symbol */\n",
              "body .bp { color: #f8f8f2 } /* Name.Builtin.Pseudo */\n",
              "body .fm { color: #a6e22e } /* Name.Function.Magic */\n",
              "body .vc { color: #f8f8f2 } /* Name.Variable.Class */\n",
              "body .vg { color: #f8f8f2 } /* Name.Variable.Global */\n",
              "body .vi { color: #f8f8f2 } /* Name.Variable.Instance */\n",
              "body .vm { color: #f8f8f2 } /* Name.Variable.Magic */\n",
              "body .il { color: #ae81ff } /* Literal.Number.Integer.Long */\n",
              "\n",
              "  </style>\n",
              "</head>\n",
              "<body>\n",
              "<h2></h2>\n",
              "\n",
              "<div class=\"highlight\"><pre><span></span><span class=\"cp\">#include</span><span class=\"w\"> </span><span class=\"cpf\">&quot;bcsr.h&quot;</span>\n",
              "\n",
              "<span class=\"kt\">void</span><span class=\"w\"> </span><span class=\"nf\">spmv_bcsr</span><span class=\"p\">(</span><span class=\"n\">bcsr</span><span class=\"w\"> </span><span class=\"o\">*</span><span class=\"n\">a</span><span class=\"p\">,</span><span class=\"w\"> </span><span class=\"kt\">float</span><span class=\"w\"> </span><span class=\"o\">*</span><span class=\"n\">v</span><span class=\"p\">,</span><span class=\"w\"> </span><span class=\"kt\">float</span><span class=\"w\"> </span><span class=\"o\">*</span><span class=\"n\">x</span><span class=\"p\">)</span>\n",
              "<span class=\"p\">{</span>\n",
              "<span class=\"w\">    </span><span class=\"kt\">int</span><span class=\"w\"> </span><span class=\"n\">m</span><span class=\"w\"> </span><span class=\"o\">=</span><span class=\"w\"> </span><span class=\"n\">a</span><span class=\"o\">-&gt;</span><span class=\"n\">m</span><span class=\"p\">;</span>\n",
              "\n",
              "<span class=\"w\">    </span><span class=\"k\">for</span><span class=\"w\"> </span><span class=\"p\">(</span><span class=\"kt\">int</span><span class=\"w\"> </span><span class=\"n\">i</span><span class=\"w\"> </span><span class=\"o\">=</span><span class=\"w\"> </span><span class=\"mi\">0</span><span class=\"p\">;</span><span class=\"w\"> </span><span class=\"n\">i</span><span class=\"w\"> </span><span class=\"o\">&lt;</span><span class=\"w\"> </span><span class=\"n\">m</span><span class=\"p\">;</span><span class=\"w\"> </span><span class=\"n\">i</span><span class=\"o\">++</span><span class=\"p\">)</span>\n",
              "<span class=\"w\">    </span><span class=\"p\">{</span>\n",
              "<span class=\"w\">        </span><span class=\"kt\">int</span><span class=\"w\"> </span><span class=\"n\">row_start_idx</span><span class=\"w\"> </span><span class=\"o\">=</span><span class=\"w\"> </span><span class=\"n\">a</span><span class=\"o\">-&gt;</span><span class=\"n\">row_ptr</span><span class=\"p\">[</span><span class=\"n\">i</span><span class=\"p\">];</span>\n",
              "<span class=\"w\">        </span><span class=\"kt\">int</span><span class=\"w\"> </span><span class=\"n\">row_end_idx</span><span class=\"w\"> </span><span class=\"o\">=</span><span class=\"w\"> </span><span class=\"n\">a</span><span class=\"o\">-&gt;</span><span class=\"n\">row_ptr</span><span class=\"p\">[</span><span class=\"n\">i</span><span class=\"w\"> </span><span class=\"o\">+</span><span class=\"w\"> </span><span class=\"mi\">1</span><span class=\"p\">];</span>\n",
              "\n",
              "<span class=\"w\">        </span><span class=\"kt\">float</span><span class=\"w\"> </span><span class=\"n\">xi</span><span class=\"w\"> </span><span class=\"o\">=</span><span class=\"w\"> </span><span class=\"mi\">0</span><span class=\"p\">;</span>\n",
              "\n",
              "<span class=\"w\">        </span><span class=\"k\">for</span><span class=\"w\"> </span><span class=\"p\">(</span><span class=\"kt\">int</span><span class=\"w\"> </span><span class=\"n\">k</span><span class=\"w\"> </span><span class=\"o\">=</span><span class=\"w\"> </span><span class=\"n\">row_start_idx</span><span class=\"p\">;</span><span class=\"w\"> </span><span class=\"n\">k</span><span class=\"w\"> </span><span class=\"o\">&lt;</span><span class=\"w\"> </span><span class=\"n\">row_end_idx</span><span class=\"p\">;</span><span class=\"w\"> </span><span class=\"n\">k</span><span class=\"o\">++</span><span class=\"p\">)</span>\n",
              "<span class=\"w\">        </span><span class=\"p\">{</span>\n",
              "<span class=\"w\">            </span><span class=\"kt\">int</span><span class=\"w\"> </span><span class=\"n\">start_col_idx</span><span class=\"w\"> </span><span class=\"o\">=</span><span class=\"w\"> </span><span class=\"n\">a</span><span class=\"o\">-&gt;</span><span class=\"n\">col_index</span><span class=\"p\">[</span><span class=\"n\">k</span><span class=\"p\">];</span>\n",
              "<span class=\"w\">            </span><span class=\"kt\">int</span><span class=\"w\"> </span><span class=\"n\">block_start_idx</span><span class=\"w\"> </span><span class=\"o\">=</span><span class=\"w\"> </span><span class=\"n\">a</span><span class=\"o\">-&gt;</span><span class=\"n\">nz_ptr</span><span class=\"p\">[</span><span class=\"n\">k</span><span class=\"p\">];</span>\n",
              "<span class=\"w\">            </span><span class=\"kt\">int</span><span class=\"w\"> </span><span class=\"n\">block_end_idx</span><span class=\"w\"> </span><span class=\"o\">=</span><span class=\"w\"> </span><span class=\"n\">a</span><span class=\"o\">-&gt;</span><span class=\"n\">nz_ptr</span><span class=\"p\">[</span><span class=\"n\">k</span><span class=\"w\"> </span><span class=\"o\">+</span><span class=\"w\"> </span><span class=\"mi\">1</span><span class=\"p\">];</span>\n",
              "\n",
              "<span class=\"w\">            </span><span class=\"kt\">int</span><span class=\"w\"> </span><span class=\"n\">t</span><span class=\"w\"> </span><span class=\"o\">=</span><span class=\"w\"> </span><span class=\"mi\">0</span><span class=\"p\">;</span>\n",
              "\n",
              "<span class=\"w\">            </span><span class=\"k\">for</span><span class=\"w\"> </span><span class=\"p\">(</span><span class=\"kt\">int</span><span class=\"w\"> </span><span class=\"n\">l</span><span class=\"w\"> </span><span class=\"o\">=</span><span class=\"w\"> </span><span class=\"n\">block_start_idx</span><span class=\"p\">;</span><span class=\"w\"> </span><span class=\"n\">l</span><span class=\"w\"> </span><span class=\"o\">&lt;</span><span class=\"w\"> </span><span class=\"n\">block_end_idx</span><span class=\"p\">;</span><span class=\"w\"> </span><span class=\"n\">l</span><span class=\"o\">++</span><span class=\"p\">)</span>\n",
              "<span class=\"w\">            </span><span class=\"p\">{</span>\n",
              "<span class=\"w\">                </span><span class=\"n\">xi</span><span class=\"w\"> </span><span class=\"o\">+=</span><span class=\"w\"> </span><span class=\"n\">v</span><span class=\"p\">[</span><span class=\"n\">start_col_idx</span><span class=\"w\"> </span><span class=\"o\">+</span><span class=\"w\"> </span><span class=\"n\">t</span><span class=\"p\">]</span><span class=\"w\"> </span><span class=\"o\">*</span><span class=\"w\"> </span><span class=\"n\">a</span><span class=\"o\">-&gt;</span><span class=\"n\">values</span><span class=\"p\">[</span><span class=\"n\">l</span><span class=\"p\">];</span>\n",
              "<span class=\"w\">                </span><span class=\"n\">t</span><span class=\"o\">++</span><span class=\"p\">;</span>\n",
              "<span class=\"w\">            </span><span class=\"p\">}</span>\n",
              "<span class=\"w\">        </span><span class=\"p\">}</span>\n",
              "\n",
              "<span class=\"w\">        </span><span class=\"n\">x</span><span class=\"p\">[</span><span class=\"n\">i</span><span class=\"p\">]</span><span class=\"w\"> </span><span class=\"o\">=</span><span class=\"w\"> </span><span class=\"n\">xi</span><span class=\"p\">;</span>\n",
              "<span class=\"w\">    </span><span class=\"p\">}</span>\n",
              "<span class=\"p\">}</span>\n",
              "</pre></div>\n",
              "</body>\n",
              "</html>\n"
            ]
          },
          "metadata": {}
        }
      ]
    },
    {
      "cell_type": "code",
      "source": [
        "!gcc sparse_matrices/bcsr/bcsr_demo.c sparse_matrices/bcsr/bcsr.c -o bcsr_demo && ./bcsr_demo"
      ],
      "metadata": {
        "colab": {
          "base_uri": "https://localhost:8080/"
        },
        "id": "7OkdHHbMAJV6",
        "outputId": "e97edc71-f0e6-4c33-dfe7-b9702a5f1a97"
      },
      "execution_count": 8,
      "outputs": [
        {
          "output_type": "stream",
          "name": "stdout",
          "text": [
            "15.0 19.0 10.0 11.0 18.0 "
          ]
        }
      ]
    },
    {
      "cell_type": "markdown",
      "source": [
        "## Mapped Blocked Row (MBR)"
      ],
      "metadata": {
        "id": "EjjIznMii0me"
      }
    },
    {
      "cell_type": "markdown",
      "source": [
        "El formato MBR fue propuesto por Ramaseshan Kannan en su artículo \"_Efficient sparse matrix multiple-vector multiplication using a bitmapped format_\". La motivación detrás de MBR era obtener las mejoras en el uso de registros de la versión de BCSR que menciona Kannan en su artículo, sin las penalizaciones en performance.\n",
        "\n",
        "La idea central del formato MBR es representar los bloques de BSR como una combinación de los elementos del bloque y un mapa de bits que refleja la estructura del bloque:"
      ],
      "metadata": {
        "id": "EPyk9_tKi8cW"
      }
    },
    {
      "cell_type": "markdown",
      "source": [
        "\\begin{align*}\n",
        "\\begin{bmatrix}\n",
        "a_{11} & a_{22} \\\\\n",
        "0 & 0\n",
        "\\end{bmatrix}\n",
        "\\implies\n",
        "\\begin{bmatrix}\n",
        "a_{11} & a_{22}\n",
        "\\end{bmatrix}\n",
        "+\n",
        "\\begin{bmatrix}\n",
        "1 & 1 \\\\\n",
        "0 & 0\n",
        "\\end{bmatrix}\n",
        "\\end{align*}"
      ],
      "metadata": {
        "id": "2rOKIoNO4bP4"
      }
    },
    {
      "cell_type": "markdown",
      "source": [
        "El mapa de bits se puede leer como un número binario, leyendolo de derecha a izquierda y de abajo hacia arriba, siendo el bit más significativo el de abajo a la derecha, y el bit menos significativo el de arriba a la izquierda. Por tanto, el mapa de bits de un bloque se puede almacenar en su representación decimal.\n",
        "\n",
        "El formato MBR consiste en los siguientes campos:\n",
        "- `r` es la cantidad de filas en cada bloque\n",
        "- `c` es la cantidad de columnas en cada bloque\n",
        "- `values` es una lista de largo `nnz` tal que `nnz` es la cantidad de elementos no nulos en la matriz. `values` está ordenada en _row-major_ de acuerdo a cada bloque. Es decir, $[B_1, B_2, ..., B_n]$ siendo $B_i$ la lista de elementos del $i$-ésimo bloque denso ordenada en row-major.\n",
        "- `col_index` es una lista de largo `n_blocks` donde cada elemento `col_index[i]` es el índice del bloque `i` en el eje $x$ de la matriz original.\n",
        "- `row_ptr` es una lista de largo `block_rows + 1` donde `block_rows` es la cantidad de filas \"a bloques\". `row_ptr[i]` es el índice en la lista `col_idx` tal que la tupla `(i, col_idx[row_ptr[i]])` son las coordenadas $(x, y)$ del bloque `i` en la matriz a bloques.\n",
        "- `bit_map` es una lista de largo `n_blocks` donde cada elemento `bit_map[i]` es la representación decimal del bitmap linearizado del bloque `i`."
      ],
      "metadata": {
        "id": "GE0NH0m75t7g"
      }
    },
    {
      "cell_type": "code",
      "source": [
        "show_c_code('sparse_matrices/mbr/mbr.h')"
      ],
      "metadata": {
        "colab": {
          "base_uri": "https://localhost:8080/",
          "height": 367
        },
        "id": "sWkMSQZBHUas",
        "outputId": "d995f46e-3fa2-43de-8d40-4cd9ef0edd9a"
      },
      "execution_count": 9,
      "outputs": [
        {
          "output_type": "display_data",
          "data": {
            "text/plain": [
              "<IPython.core.display.HTML object>"
            ],
            "text/html": [
              "<!DOCTYPE html PUBLIC \"-//W3C//DTD HTML 4.01//EN\"\n",
              "   \"http://www.w3.org/TR/html4/strict.dtd\">\n",
              "<!--\n",
              "generated by Pygments <https://pygments.org/>\n",
              "Copyright 2006-2024 by the Pygments team.\n",
              "Licensed under the BSD license, see LICENSE for details.\n",
              "-->\n",
              "<html>\n",
              "<head>\n",
              "  <title></title>\n",
              "  <meta http-equiv=\"content-type\" content=\"text/html; charset=None\">\n",
              "  <style type=\"text/css\">\n",
              "/*\n",
              "generated by Pygments <https://pygments.org/>\n",
              "Copyright 2006-2024 by the Pygments team.\n",
              "Licensed under the BSD license, see LICENSE for details.\n",
              "*/\n",
              "pre { line-height: 125%; }\n",
              "td.linenos .normal { color: inherit; background-color: transparent; padding-left: 5px; padding-right: 5px; }\n",
              "span.linenos { color: inherit; background-color: transparent; padding-left: 5px; padding-right: 5px; }\n",
              "td.linenos .special { color: #000000; background-color: #ffffc0; padding-left: 5px; padding-right: 5px; }\n",
              "span.linenos.special { color: #000000; background-color: #ffffc0; padding-left: 5px; padding-right: 5px; }\n",
              "body .hll { background-color: #49483e }\n",
              "body { background: #272822; color: #f8f8f2 }\n",
              "body .c { color: #959077 } /* Comment */\n",
              "body .err { color: #ed007e; background-color: #1e0010 } /* Error */\n",
              "body .esc { color: #f8f8f2 } /* Escape */\n",
              "body .g { color: #f8f8f2 } /* Generic */\n",
              "body .k { color: #66d9ef } /* Keyword */\n",
              "body .l { color: #ae81ff } /* Literal */\n",
              "body .n { color: #f8f8f2 } /* Name */\n",
              "body .o { color: #ff4689 } /* Operator */\n",
              "body .x { color: #f8f8f2 } /* Other */\n",
              "body .p { color: #f8f8f2 } /* Punctuation */\n",
              "body .ch { color: #959077 } /* Comment.Hashbang */\n",
              "body .cm { color: #959077 } /* Comment.Multiline */\n",
              "body .cp { color: #959077 } /* Comment.Preproc */\n",
              "body .cpf { color: #959077 } /* Comment.PreprocFile */\n",
              "body .c1 { color: #959077 } /* Comment.Single */\n",
              "body .cs { color: #959077 } /* Comment.Special */\n",
              "body .gd { color: #ff4689 } /* Generic.Deleted */\n",
              "body .ge { color: #f8f8f2; font-style: italic } /* Generic.Emph */\n",
              "body .ges { color: #f8f8f2; font-weight: bold; font-style: italic } /* Generic.EmphStrong */\n",
              "body .gr { color: #f8f8f2 } /* Generic.Error */\n",
              "body .gh { color: #f8f8f2 } /* Generic.Heading */\n",
              "body .gi { color: #a6e22e } /* Generic.Inserted */\n",
              "body .go { color: #66d9ef } /* Generic.Output */\n",
              "body .gp { color: #ff4689; font-weight: bold } /* Generic.Prompt */\n",
              "body .gs { color: #f8f8f2; font-weight: bold } /* Generic.Strong */\n",
              "body .gu { color: #959077 } /* Generic.Subheading */\n",
              "body .gt { color: #f8f8f2 } /* Generic.Traceback */\n",
              "body .kc { color: #66d9ef } /* Keyword.Constant */\n",
              "body .kd { color: #66d9ef } /* Keyword.Declaration */\n",
              "body .kn { color: #ff4689 } /* Keyword.Namespace */\n",
              "body .kp { color: #66d9ef } /* Keyword.Pseudo */\n",
              "body .kr { color: #66d9ef } /* Keyword.Reserved */\n",
              "body .kt { color: #66d9ef } /* Keyword.Type */\n",
              "body .ld { color: #e6db74 } /* Literal.Date */\n",
              "body .m { color: #ae81ff } /* Literal.Number */\n",
              "body .s { color: #e6db74 } /* Literal.String */\n",
              "body .na { color: #a6e22e } /* Name.Attribute */\n",
              "body .nb { color: #f8f8f2 } /* Name.Builtin */\n",
              "body .nc { color: #a6e22e } /* Name.Class */\n",
              "body .no { color: #66d9ef } /* Name.Constant */\n",
              "body .nd { color: #a6e22e } /* Name.Decorator */\n",
              "body .ni { color: #f8f8f2 } /* Name.Entity */\n",
              "body .ne { color: #a6e22e } /* Name.Exception */\n",
              "body .nf { color: #a6e22e } /* Name.Function */\n",
              "body .nl { color: #f8f8f2 } /* Name.Label */\n",
              "body .nn { color: #f8f8f2 } /* Name.Namespace */\n",
              "body .nx { color: #a6e22e } /* Name.Other */\n",
              "body .py { color: #f8f8f2 } /* Name.Property */\n",
              "body .nt { color: #ff4689 } /* Name.Tag */\n",
              "body .nv { color: #f8f8f2 } /* Name.Variable */\n",
              "body .ow { color: #ff4689 } /* Operator.Word */\n",
              "body .pm { color: #f8f8f2 } /* Punctuation.Marker */\n",
              "body .w { color: #f8f8f2 } /* Text.Whitespace */\n",
              "body .mb { color: #ae81ff } /* Literal.Number.Bin */\n",
              "body .mf { color: #ae81ff } /* Literal.Number.Float */\n",
              "body .mh { color: #ae81ff } /* Literal.Number.Hex */\n",
              "body .mi { color: #ae81ff } /* Literal.Number.Integer */\n",
              "body .mo { color: #ae81ff } /* Literal.Number.Oct */\n",
              "body .sa { color: #e6db74 } /* Literal.String.Affix */\n",
              "body .sb { color: #e6db74 } /* Literal.String.Backtick */\n",
              "body .sc { color: #e6db74 } /* Literal.String.Char */\n",
              "body .dl { color: #e6db74 } /* Literal.String.Delimiter */\n",
              "body .sd { color: #e6db74 } /* Literal.String.Doc */\n",
              "body .s2 { color: #e6db74 } /* Literal.String.Double */\n",
              "body .se { color: #ae81ff } /* Literal.String.Escape */\n",
              "body .sh { color: #e6db74 } /* Literal.String.Heredoc */\n",
              "body .si { color: #e6db74 } /* Literal.String.Interpol */\n",
              "body .sx { color: #e6db74 } /* Literal.String.Other */\n",
              "body .sr { color: #e6db74 } /* Literal.String.Regex */\n",
              "body .s1 { color: #e6db74 } /* Literal.String.Single */\n",
              "body .ss { color: #e6db74 } /* Literal.String.Symbol */\n",
              "body .bp { color: #f8f8f2 } /* Name.Builtin.Pseudo */\n",
              "body .fm { color: #a6e22e } /* Name.Function.Magic */\n",
              "body .vc { color: #f8f8f2 } /* Name.Variable.Class */\n",
              "body .vg { color: #f8f8f2 } /* Name.Variable.Global */\n",
              "body .vi { color: #f8f8f2 } /* Name.Variable.Instance */\n",
              "body .vm { color: #f8f8f2 } /* Name.Variable.Magic */\n",
              "body .il { color: #ae81ff } /* Literal.Number.Integer.Long */\n",
              "\n",
              "  </style>\n",
              "</head>\n",
              "<body>\n",
              "<h2></h2>\n",
              "\n",
              "<div class=\"highlight\"><pre><span></span><span class=\"cm\">/**</span>\n",
              "<span class=\"cm\"> * Mapped Blocked Row.</span>\n",
              "<span class=\"cm\"> */</span>\n",
              "<span class=\"k\">typedef</span><span class=\"w\"> </span><span class=\"k\">struct</span><span class=\"w\"> </span><span class=\"nc\">mbr</span>\n",
              "<span class=\"p\">{</span>\n",
              "<span class=\"w\">    </span><span class=\"kt\">int</span><span class=\"w\"> </span><span class=\"n\">m</span><span class=\"p\">;</span>\n",
              "<span class=\"w\">    </span><span class=\"kt\">int</span><span class=\"w\"> </span><span class=\"n\">n</span><span class=\"p\">;</span>\n",
              "<span class=\"w\">    </span><span class=\"kt\">int</span><span class=\"w\"> </span><span class=\"n\">blk_rows</span><span class=\"p\">;</span>\n",
              "<span class=\"w\">    </span><span class=\"kt\">int</span><span class=\"w\"> </span><span class=\"n\">blk_columns</span><span class=\"p\">;</span>\n",
              "<span class=\"w\">    </span><span class=\"kt\">int</span><span class=\"w\"> </span><span class=\"n\">nnz_blocks</span><span class=\"p\">;</span>\n",
              "<span class=\"w\">    </span><span class=\"kt\">int</span><span class=\"w\"> </span><span class=\"n\">r</span><span class=\"p\">;</span>\n",
              "<span class=\"w\">    </span><span class=\"kt\">int</span><span class=\"w\"> </span><span class=\"n\">c</span><span class=\"p\">;</span>\n",
              "<span class=\"w\">    </span><span class=\"kt\">float</span><span class=\"w\"> </span><span class=\"o\">*</span><span class=\"n\">values</span><span class=\"p\">;</span><span class=\"w\"> </span><span class=\"c1\">// length r * c * nnz_blocks</span>\n",
              "<span class=\"w\">    </span><span class=\"kt\">int</span><span class=\"w\"> </span><span class=\"o\">*</span><span class=\"n\">col_index</span><span class=\"p\">;</span>\n",
              "<span class=\"w\">    </span><span class=\"kt\">int</span><span class=\"w\"> </span><span class=\"o\">*</span><span class=\"n\">row_ptr</span><span class=\"p\">;</span>\n",
              "<span class=\"w\">    </span><span class=\"kt\">int</span><span class=\"w\"> </span><span class=\"o\">*</span><span class=\"n\">bitmap</span><span class=\"p\">;</span>\n",
              "<span class=\"p\">}</span><span class=\"w\"> </span><span class=\"n\">mbr</span><span class=\"p\">;</span>\n",
              "\n",
              "<span class=\"kt\">void</span><span class=\"w\"> </span><span class=\"nf\">spmv_mbr</span><span class=\"p\">(</span><span class=\"n\">mbr</span><span class=\"w\"> </span><span class=\"o\">*</span><span class=\"n\">a</span><span class=\"p\">,</span><span class=\"w\"> </span><span class=\"kt\">float</span><span class=\"w\"> </span><span class=\"o\">*</span><span class=\"n\">v</span><span class=\"p\">,</span><span class=\"w\"> </span><span class=\"kt\">float</span><span class=\"w\"> </span><span class=\"o\">*</span><span class=\"n\">x</span><span class=\"p\">);</span>\n",
              "</pre></div>\n",
              "</body>\n",
              "</html>\n"
            ]
          },
          "metadata": {}
        }
      ]
    },
    {
      "cell_type": "code",
      "source": [
        "show_c_code('sparse_matrices/mbr/mbr.c')"
      ],
      "metadata": {
        "colab": {
          "base_uri": "https://localhost:8080/",
          "height": 857
        },
        "id": "TgrCpmTaIJNf",
        "outputId": "1f4f9310-de42-4aa4-aa11-f9c0d0bf0b71"
      },
      "execution_count": 10,
      "outputs": [
        {
          "output_type": "display_data",
          "data": {
            "text/plain": [
              "<IPython.core.display.HTML object>"
            ],
            "text/html": [
              "<!DOCTYPE html PUBLIC \"-//W3C//DTD HTML 4.01//EN\"\n",
              "   \"http://www.w3.org/TR/html4/strict.dtd\">\n",
              "<!--\n",
              "generated by Pygments <https://pygments.org/>\n",
              "Copyright 2006-2024 by the Pygments team.\n",
              "Licensed under the BSD license, see LICENSE for details.\n",
              "-->\n",
              "<html>\n",
              "<head>\n",
              "  <title></title>\n",
              "  <meta http-equiv=\"content-type\" content=\"text/html; charset=None\">\n",
              "  <style type=\"text/css\">\n",
              "/*\n",
              "generated by Pygments <https://pygments.org/>\n",
              "Copyright 2006-2024 by the Pygments team.\n",
              "Licensed under the BSD license, see LICENSE for details.\n",
              "*/\n",
              "pre { line-height: 125%; }\n",
              "td.linenos .normal { color: inherit; background-color: transparent; padding-left: 5px; padding-right: 5px; }\n",
              "span.linenos { color: inherit; background-color: transparent; padding-left: 5px; padding-right: 5px; }\n",
              "td.linenos .special { color: #000000; background-color: #ffffc0; padding-left: 5px; padding-right: 5px; }\n",
              "span.linenos.special { color: #000000; background-color: #ffffc0; padding-left: 5px; padding-right: 5px; }\n",
              "body .hll { background-color: #49483e }\n",
              "body { background: #272822; color: #f8f8f2 }\n",
              "body .c { color: #959077 } /* Comment */\n",
              "body .err { color: #ed007e; background-color: #1e0010 } /* Error */\n",
              "body .esc { color: #f8f8f2 } /* Escape */\n",
              "body .g { color: #f8f8f2 } /* Generic */\n",
              "body .k { color: #66d9ef } /* Keyword */\n",
              "body .l { color: #ae81ff } /* Literal */\n",
              "body .n { color: #f8f8f2 } /* Name */\n",
              "body .o { color: #ff4689 } /* Operator */\n",
              "body .x { color: #f8f8f2 } /* Other */\n",
              "body .p { color: #f8f8f2 } /* Punctuation */\n",
              "body .ch { color: #959077 } /* Comment.Hashbang */\n",
              "body .cm { color: #959077 } /* Comment.Multiline */\n",
              "body .cp { color: #959077 } /* Comment.Preproc */\n",
              "body .cpf { color: #959077 } /* Comment.PreprocFile */\n",
              "body .c1 { color: #959077 } /* Comment.Single */\n",
              "body .cs { color: #959077 } /* Comment.Special */\n",
              "body .gd { color: #ff4689 } /* Generic.Deleted */\n",
              "body .ge { color: #f8f8f2; font-style: italic } /* Generic.Emph */\n",
              "body .ges { color: #f8f8f2; font-weight: bold; font-style: italic } /* Generic.EmphStrong */\n",
              "body .gr { color: #f8f8f2 } /* Generic.Error */\n",
              "body .gh { color: #f8f8f2 } /* Generic.Heading */\n",
              "body .gi { color: #a6e22e } /* Generic.Inserted */\n",
              "body .go { color: #66d9ef } /* Generic.Output */\n",
              "body .gp { color: #ff4689; font-weight: bold } /* Generic.Prompt */\n",
              "body .gs { color: #f8f8f2; font-weight: bold } /* Generic.Strong */\n",
              "body .gu { color: #959077 } /* Generic.Subheading */\n",
              "body .gt { color: #f8f8f2 } /* Generic.Traceback */\n",
              "body .kc { color: #66d9ef } /* Keyword.Constant */\n",
              "body .kd { color: #66d9ef } /* Keyword.Declaration */\n",
              "body .kn { color: #ff4689 } /* Keyword.Namespace */\n",
              "body .kp { color: #66d9ef } /* Keyword.Pseudo */\n",
              "body .kr { color: #66d9ef } /* Keyword.Reserved */\n",
              "body .kt { color: #66d9ef } /* Keyword.Type */\n",
              "body .ld { color: #e6db74 } /* Literal.Date */\n",
              "body .m { color: #ae81ff } /* Literal.Number */\n",
              "body .s { color: #e6db74 } /* Literal.String */\n",
              "body .na { color: #a6e22e } /* Name.Attribute */\n",
              "body .nb { color: #f8f8f2 } /* Name.Builtin */\n",
              "body .nc { color: #a6e22e } /* Name.Class */\n",
              "body .no { color: #66d9ef } /* Name.Constant */\n",
              "body .nd { color: #a6e22e } /* Name.Decorator */\n",
              "body .ni { color: #f8f8f2 } /* Name.Entity */\n",
              "body .ne { color: #a6e22e } /* Name.Exception */\n",
              "body .nf { color: #a6e22e } /* Name.Function */\n",
              "body .nl { color: #f8f8f2 } /* Name.Label */\n",
              "body .nn { color: #f8f8f2 } /* Name.Namespace */\n",
              "body .nx { color: #a6e22e } /* Name.Other */\n",
              "body .py { color: #f8f8f2 } /* Name.Property */\n",
              "body .nt { color: #ff4689 } /* Name.Tag */\n",
              "body .nv { color: #f8f8f2 } /* Name.Variable */\n",
              "body .ow { color: #ff4689 } /* Operator.Word */\n",
              "body .pm { color: #f8f8f2 } /* Punctuation.Marker */\n",
              "body .w { color: #f8f8f2 } /* Text.Whitespace */\n",
              "body .mb { color: #ae81ff } /* Literal.Number.Bin */\n",
              "body .mf { color: #ae81ff } /* Literal.Number.Float */\n",
              "body .mh { color: #ae81ff } /* Literal.Number.Hex */\n",
              "body .mi { color: #ae81ff } /* Literal.Number.Integer */\n",
              "body .mo { color: #ae81ff } /* Literal.Number.Oct */\n",
              "body .sa { color: #e6db74 } /* Literal.String.Affix */\n",
              "body .sb { color: #e6db74 } /* Literal.String.Backtick */\n",
              "body .sc { color: #e6db74 } /* Literal.String.Char */\n",
              "body .dl { color: #e6db74 } /* Literal.String.Delimiter */\n",
              "body .sd { color: #e6db74 } /* Literal.String.Doc */\n",
              "body .s2 { color: #e6db74 } /* Literal.String.Double */\n",
              "body .se { color: #ae81ff } /* Literal.String.Escape */\n",
              "body .sh { color: #e6db74 } /* Literal.String.Heredoc */\n",
              "body .si { color: #e6db74 } /* Literal.String.Interpol */\n",
              "body .sx { color: #e6db74 } /* Literal.String.Other */\n",
              "body .sr { color: #e6db74 } /* Literal.String.Regex */\n",
              "body .s1 { color: #e6db74 } /* Literal.String.Single */\n",
              "body .ss { color: #e6db74 } /* Literal.String.Symbol */\n",
              "body .bp { color: #f8f8f2 } /* Name.Builtin.Pseudo */\n",
              "body .fm { color: #a6e22e } /* Name.Function.Magic */\n",
              "body .vc { color: #f8f8f2 } /* Name.Variable.Class */\n",
              "body .vg { color: #f8f8f2 } /* Name.Variable.Global */\n",
              "body .vi { color: #f8f8f2 } /* Name.Variable.Instance */\n",
              "body .vm { color: #f8f8f2 } /* Name.Variable.Magic */\n",
              "body .il { color: #ae81ff } /* Literal.Number.Integer.Long */\n",
              "\n",
              "  </style>\n",
              "</head>\n",
              "<body>\n",
              "<h2></h2>\n",
              "\n",
              "<div class=\"highlight\"><pre><span></span><span class=\"cp\">#include</span><span class=\"w\"> </span><span class=\"cpf\">&quot;mbr.h&quot;</span>\n",
              "<span class=\"cp\">#include</span><span class=\"w\"> </span><span class=\"cpf\">&lt;stdio.h&gt;</span>\n",
              "\n",
              "<span class=\"kt\">void</span><span class=\"w\"> </span><span class=\"nf\">spmv_mbr</span><span class=\"p\">(</span><span class=\"n\">mbr</span><span class=\"w\"> </span><span class=\"o\">*</span><span class=\"n\">a</span><span class=\"p\">,</span><span class=\"w\"> </span><span class=\"kt\">float</span><span class=\"w\"> </span><span class=\"o\">*</span><span class=\"n\">v</span><span class=\"p\">,</span><span class=\"w\"> </span><span class=\"kt\">float</span><span class=\"w\"> </span><span class=\"o\">*</span><span class=\"n\">x</span><span class=\"p\">)</span>\n",
              "<span class=\"p\">{</span>\n",
              "<span class=\"w\">    </span><span class=\"k\">for</span><span class=\"w\"> </span><span class=\"p\">(</span><span class=\"kt\">int</span><span class=\"w\"> </span><span class=\"n\">i</span><span class=\"w\"> </span><span class=\"o\">=</span><span class=\"w\"> </span><span class=\"mi\">0</span><span class=\"p\">;</span><span class=\"w\"> </span><span class=\"n\">i</span><span class=\"w\"> </span><span class=\"o\">&lt;</span><span class=\"w\"> </span><span class=\"n\">a</span><span class=\"o\">-&gt;</span><span class=\"n\">m</span><span class=\"p\">;</span><span class=\"w\"> </span><span class=\"n\">i</span><span class=\"o\">++</span><span class=\"p\">)</span>\n",
              "<span class=\"w\">        </span><span class=\"n\">x</span><span class=\"p\">[</span><span class=\"n\">i</span><span class=\"p\">]</span><span class=\"w\"> </span><span class=\"o\">=</span><span class=\"w\"> </span><span class=\"mi\">0</span><span class=\"p\">;</span>\n",
              "\n",
              "<span class=\"w\">    </span><span class=\"kt\">int</span><span class=\"w\"> </span><span class=\"n\">block_rows</span><span class=\"w\"> </span><span class=\"o\">=</span><span class=\"w\"> </span><span class=\"n\">a</span><span class=\"o\">-&gt;</span><span class=\"n\">blk_rows</span><span class=\"p\">;</span>\n",
              "<span class=\"w\">    </span><span class=\"kt\">int</span><span class=\"w\"> </span><span class=\"n\">block_columns</span><span class=\"w\"> </span><span class=\"o\">=</span><span class=\"w\"> </span><span class=\"n\">a</span><span class=\"o\">-&gt;</span><span class=\"n\">blk_columns</span><span class=\"p\">;</span>\n",
              "<span class=\"w\">    </span><span class=\"kt\">int</span><span class=\"w\"> </span><span class=\"n\">r</span><span class=\"w\"> </span><span class=\"o\">=</span><span class=\"w\"> </span><span class=\"n\">a</span><span class=\"o\">-&gt;</span><span class=\"n\">r</span><span class=\"p\">;</span>\n",
              "<span class=\"w\">    </span><span class=\"kt\">int</span><span class=\"w\"> </span><span class=\"n\">c</span><span class=\"w\"> </span><span class=\"o\">=</span><span class=\"w\"> </span><span class=\"n\">a</span><span class=\"o\">-&gt;</span><span class=\"n\">c</span><span class=\"p\">;</span>\n",
              "\n",
              "<span class=\"w\">    </span><span class=\"kt\">int</span><span class=\"w\"> </span><span class=\"n\">values_idx</span><span class=\"w\"> </span><span class=\"o\">=</span><span class=\"w\"> </span><span class=\"mi\">0</span><span class=\"p\">;</span>\n",
              "\n",
              "<span class=\"w\">    </span><span class=\"k\">for</span><span class=\"w\"> </span><span class=\"p\">(</span><span class=\"kt\">int</span><span class=\"w\"> </span><span class=\"n\">by</span><span class=\"w\"> </span><span class=\"o\">=</span><span class=\"w\"> </span><span class=\"mi\">0</span><span class=\"p\">;</span><span class=\"w\"> </span><span class=\"n\">by</span><span class=\"w\"> </span><span class=\"o\">&lt;</span><span class=\"w\"> </span><span class=\"n\">a</span><span class=\"o\">-&gt;</span><span class=\"n\">blk_rows</span><span class=\"p\">;</span><span class=\"w\"> </span><span class=\"n\">by</span><span class=\"o\">++</span><span class=\"p\">)</span>\n",
              "<span class=\"w\">    </span><span class=\"p\">{</span>\n",
              "<span class=\"w\">        </span><span class=\"kt\">int</span><span class=\"w\"> </span><span class=\"n\">block_x_start</span><span class=\"w\"> </span><span class=\"o\">=</span><span class=\"w\"> </span><span class=\"n\">a</span><span class=\"o\">-&gt;</span><span class=\"n\">row_ptr</span><span class=\"p\">[</span><span class=\"n\">by</span><span class=\"p\">];</span>\n",
              "<span class=\"w\">        </span><span class=\"kt\">int</span><span class=\"w\"> </span><span class=\"n\">block_x_end</span><span class=\"w\"> </span><span class=\"o\">=</span><span class=\"w\"> </span><span class=\"n\">a</span><span class=\"o\">-&gt;</span><span class=\"n\">row_ptr</span><span class=\"p\">[</span><span class=\"n\">by</span><span class=\"w\"> </span><span class=\"o\">+</span><span class=\"w\"> </span><span class=\"mi\">1</span><span class=\"p\">];</span>\n",
              "\n",
              "<span class=\"w\">        </span><span class=\"k\">for</span><span class=\"w\"> </span><span class=\"p\">(</span><span class=\"kt\">int</span><span class=\"w\"> </span><span class=\"n\">blk_id</span><span class=\"w\"> </span><span class=\"o\">=</span><span class=\"w\"> </span><span class=\"n\">block_x_start</span><span class=\"p\">;</span><span class=\"w\"> </span><span class=\"n\">blk_id</span><span class=\"w\"> </span><span class=\"o\">&lt;</span><span class=\"w\"> </span><span class=\"n\">block_x_end</span><span class=\"p\">;</span><span class=\"w\"> </span><span class=\"n\">blk_id</span><span class=\"o\">++</span><span class=\"p\">)</span>\n",
              "<span class=\"w\">        </span><span class=\"p\">{</span>\n",
              "<span class=\"w\">            </span><span class=\"kt\">int</span><span class=\"w\"> </span><span class=\"n\">bx</span><span class=\"w\"> </span><span class=\"o\">=</span><span class=\"w\"> </span><span class=\"n\">a</span><span class=\"o\">-&gt;</span><span class=\"n\">col_index</span><span class=\"p\">[</span><span class=\"n\">blk_id</span><span class=\"p\">];</span>\n",
              "<span class=\"w\">            </span><span class=\"kt\">int</span><span class=\"w\"> </span><span class=\"n\">bmap</span><span class=\"w\"> </span><span class=\"o\">=</span><span class=\"w\"> </span><span class=\"n\">a</span><span class=\"o\">-&gt;</span><span class=\"n\">bitmap</span><span class=\"p\">[</span><span class=\"n\">blk_id</span><span class=\"p\">];</span>\n",
              "\n",
              "<span class=\"w\">            </span><span class=\"kt\">int</span><span class=\"w\"> </span><span class=\"n\">bit_idx</span><span class=\"w\"> </span><span class=\"o\">=</span><span class=\"w\"> </span><span class=\"mi\">0</span><span class=\"p\">;</span>\n",
              "\n",
              "<span class=\"w\">            </span><span class=\"k\">while</span><span class=\"w\"> </span><span class=\"p\">(</span><span class=\"n\">bmap</span><span class=\"w\"> </span><span class=\"o\">!=</span><span class=\"w\"> </span><span class=\"mi\">0</span><span class=\"p\">)</span>\n",
              "<span class=\"w\">            </span><span class=\"p\">{</span>\n",
              "<span class=\"w\">                </span><span class=\"k\">if</span><span class=\"w\"> </span><span class=\"p\">((</span><span class=\"n\">bmap</span><span class=\"w\"> </span><span class=\"o\">&amp;</span><span class=\"w\"> </span><span class=\"mi\">1</span><span class=\"p\">)</span><span class=\"w\"> </span><span class=\"o\">==</span><span class=\"w\"> </span><span class=\"mi\">1</span><span class=\"p\">)</span>\n",
              "<span class=\"w\">                </span><span class=\"p\">{</span>\n",
              "<span class=\"w\">                    </span><span class=\"kt\">int</span><span class=\"w\"> </span><span class=\"n\">row_in_block</span><span class=\"w\"> </span><span class=\"o\">=</span><span class=\"w\"> </span><span class=\"n\">bit_idx</span><span class=\"w\"> </span><span class=\"o\">/</span><span class=\"w\"> </span><span class=\"n\">c</span><span class=\"p\">;</span><span class=\"w\"> </span><span class=\"c1\">// Row within the block</span>\n",
              "<span class=\"w\">                    </span><span class=\"kt\">int</span><span class=\"w\"> </span><span class=\"n\">col_in_block</span><span class=\"w\"> </span><span class=\"o\">=</span><span class=\"w\"> </span><span class=\"n\">bit_idx</span><span class=\"w\"> </span><span class=\"o\">%</span><span class=\"w\"> </span><span class=\"n\">c</span><span class=\"p\">;</span><span class=\"w\"> </span><span class=\"c1\">// Column within the block</span>\n",
              "\n",
              "<span class=\"w\">                    </span><span class=\"kt\">int</span><span class=\"w\"> </span><span class=\"n\">i</span><span class=\"w\"> </span><span class=\"o\">=</span><span class=\"w\"> </span><span class=\"n\">by</span><span class=\"w\"> </span><span class=\"o\">*</span><span class=\"w\"> </span><span class=\"n\">r</span><span class=\"w\"> </span><span class=\"o\">+</span><span class=\"w\"> </span><span class=\"n\">row_in_block</span><span class=\"p\">;</span><span class=\"w\"> </span><span class=\"c1\">// Row in matrix</span>\n",
              "<span class=\"w\">                    </span><span class=\"kt\">int</span><span class=\"w\"> </span><span class=\"n\">j</span><span class=\"w\"> </span><span class=\"o\">=</span><span class=\"w\"> </span><span class=\"n\">bx</span><span class=\"w\"> </span><span class=\"o\">*</span><span class=\"w\"> </span><span class=\"n\">c</span><span class=\"w\"> </span><span class=\"o\">+</span><span class=\"w\"> </span><span class=\"n\">col_in_block</span><span class=\"p\">;</span><span class=\"w\"> </span><span class=\"c1\">// Column in matrix</span>\n",
              "\n",
              "<span class=\"w\">                    </span><span class=\"n\">x</span><span class=\"p\">[</span><span class=\"n\">i</span><span class=\"p\">]</span><span class=\"w\"> </span><span class=\"o\">+=</span><span class=\"w\"> </span><span class=\"n\">a</span><span class=\"o\">-&gt;</span><span class=\"n\">values</span><span class=\"p\">[</span><span class=\"n\">values_idx</span><span class=\"p\">]</span><span class=\"w\"> </span><span class=\"o\">*</span><span class=\"w\"> </span><span class=\"n\">v</span><span class=\"p\">[</span><span class=\"n\">j</span><span class=\"p\">];</span>\n",
              "<span class=\"w\">                    </span><span class=\"n\">values_idx</span><span class=\"o\">++</span><span class=\"p\">;</span>\n",
              "<span class=\"w\">                </span><span class=\"p\">}</span>\n",
              "\n",
              "<span class=\"w\">                </span><span class=\"n\">bmap</span><span class=\"w\"> </span><span class=\"o\">&gt;&gt;=</span><span class=\"w\"> </span><span class=\"mi\">1</span><span class=\"p\">;</span>\n",
              "<span class=\"w\">                </span><span class=\"n\">bmap</span><span class=\"w\"> </span><span class=\"o\">==</span><span class=\"w\"> </span><span class=\"mi\">0</span><span class=\"w\"> </span><span class=\"o\">?</span><span class=\"w\"> </span><span class=\"n\">bit_idx</span><span class=\"w\"> </span><span class=\"o\">=</span><span class=\"w\"> </span><span class=\"mi\">0</span><span class=\"w\"> </span><span class=\"o\">:</span><span class=\"w\"> </span><span class=\"n\">bit_idx</span><span class=\"o\">++</span><span class=\"p\">;</span>\n",
              "<span class=\"w\">            </span><span class=\"p\">}</span>\n",
              "<span class=\"w\">        </span><span class=\"p\">}</span>\n",
              "<span class=\"w\">    </span><span class=\"p\">}</span>\n",
              "<span class=\"p\">};</span>\n",
              "</pre></div>\n",
              "</body>\n",
              "</html>\n"
            ]
          },
          "metadata": {}
        }
      ]
    },
    {
      "cell_type": "markdown",
      "source": [
        "En el siguiente demo se le agregó una fila y una columna con los elementos en cero a la matriz original utilizada en los ejemplos anteriores. Esto es para poder trabajar con una matriz de 6 por 6 y que se pueda dividir en 9 bloques de 2 por 2."
      ],
      "metadata": {
        "id": "t88WGw6Kq-JB"
      }
    },
    {
      "cell_type": "code",
      "source": [
        "!gcc sparse_matrices/mbr/mbr_demo.c sparse_matrices/mbr/mbr.c -o mbr_demo && ./mbr_demo"
      ],
      "metadata": {
        "id": "uuFZwxtUIU3W",
        "colab": {
          "base_uri": "https://localhost:8080/"
        },
        "outputId": "ad60a30c-ee79-461f-ce7f-031c03deec60"
      },
      "execution_count": 11,
      "outputs": [
        {
          "output_type": "stream",
          "name": "stdout",
          "text": [
            "15.0 19.0 10.0 11.0 18.0 0.0 "
          ]
        }
      ]
    }
  ]
}